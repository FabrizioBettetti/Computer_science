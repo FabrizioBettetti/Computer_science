{
  "nbformat": 4,
  "nbformat_minor": 0,
  "metadata": {
    "colab": {
      "provenance": [],
      "authorship_tag": "ABX9TyMAbssu7wWyV/gpX94uDEk6",
      "include_colab_link": true
    },
    "kernelspec": {
      "name": "python3",
      "display_name": "Python 3"
    },
    "language_info": {
      "name": "python"
    }
  },
  "cells": [
    {
      "cell_type": "markdown",
      "metadata": {
        "id": "view-in-github",
        "colab_type": "text"
      },
      "source": [
        "<a href=\"https://colab.research.google.com/github/FabrizioBettetti/Computer_science/blob/main/Knapsack_problem.ipynb\" target=\"_parent\"><img src=\"https://colab.research.google.com/assets/colab-badge.svg\" alt=\"Open In Colab\"/></a>"
      ]
    },
    {
      "cell_type": "code",
      "execution_count": null,
      "metadata": {
        "id": "GweZAzHY4Au2"
      },
      "outputs": [],
      "source": [
        "class Food(objects):\n",
        "  def __init__(self, n, v, w):\n",
        "    self.name = n\n",
        "    self.value = v\n",
        "    self.calories = w\n",
        "\n",
        "  def getValue(self):\n",
        "    return self.value\n",
        "\n",
        "  def getCost(self):\n",
        "    return self.calories\n",
        "\n",
        "  def density(self):\n",
        "    return self.getValue() / self.getCost()\n",
        "\n",
        "  def __str__(self):\n",
        "    return self.name + ': <' + str(self.getValue()) + ', ' + str(self.getCost()) + '>'"
      ]
    },
    {
      "cell_type": "code",
      "source": [
        "def buildMenu(names, values, calories):\n",
        "  \"\"\"\n",
        "  names, values, calories: lists of same length.\n",
        "  names: list of strings.\n",
        "  values, calories: lists of numbers.\n",
        "  Returns list of Foods\n",
        "  \"\"\"\n",
        "\n",
        "  menu = []\n",
        "\n",
        "  for i in range(len(values)):\n",
        "    menu.append(Food(names[i], values[i], calories[i]))\n",
        "\n",
        "  return menu"
      ],
      "metadata": {
        "id": "8yT2zizQ4_DT"
      },
      "execution_count": null,
      "outputs": []
    },
    {
      "cell_type": "markdown",
      "source": [
        "#Flexible Greedy algorithm"
      ],
      "metadata": {
        "id": "TaVaPlS07IBN"
      }
    },
    {
      "cell_type": "code",
      "source": [
        "def greedy(items, maxCost, keyFunction):\n",
        "  \"\"\"\n",
        "  items: list.\n",
        "  maxCost >= 0.\n",
        "  keyFunction maps elements of items to numbers\n",
        "  \"\"\"\n",
        "\n",
        "  itemsSorted = sorted(items, key = keyFunction, reverse = True)\n",
        "\n",
        "  result = []\n",
        "  totalValue, totalCost = 0.0, 0.0\n",
        "\n",
        "  for item in itemsSorted:\n",
        "    if totalCost + item.getCost() <= maxCost:\n",
        "      result.append(item)\n",
        "      totalCost += item.getCost()\n",
        "      totalValue += item.getValue()\n",
        "\n",
        "  return (result, totalValue)"
      ],
      "metadata": {
        "id": "xiMQYZX97LG8"
      },
      "execution_count": null,
      "outputs": []
    },
    {
      "cell_type": "code",
      "source": [
        "def testGreedy(items, constraint, keyFunction):\n",
        "  taken, val = greedy(items, constraint, keyFunction)\n",
        "  print('Total value of items taken =', val)\n",
        "  for item in taken:\n",
        "    print('  ', item)"
      ],
      "metadata": {
        "id": "imjLRVIf-hGH"
      },
      "execution_count": null,
      "outputs": []
    },
    {
      "cell_type": "code",
      "source": [],
      "metadata": {
        "id": "dpP70i2QFjCq"
      },
      "execution_count": null,
      "outputs": []
    }
  ]
}