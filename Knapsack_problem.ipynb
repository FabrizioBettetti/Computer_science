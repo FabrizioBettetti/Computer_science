{
  "nbformat": 4,
  "nbformat_minor": 0,
  "metadata": {
    "colab": {
      "provenance": [],
      "authorship_tag": "ABX9TyPnuAjZaadwZmMSrvnMkMFd",
      "include_colab_link": true
    },
    "kernelspec": {
      "name": "python3",
      "display_name": "Python 3"
    },
    "language_info": {
      "name": "python"
    }
  },
  "cells": [
    {
      "cell_type": "markdown",
      "metadata": {
        "id": "view-in-github",
        "colab_type": "text"
      },
      "source": [
        "<a href=\"https://colab.research.google.com/github/FabrizioBettetti/Computer_science/blob/main/Knapsack_problem.ipynb\" target=\"_parent\"><img src=\"https://colab.research.google.com/assets/colab-badge.svg\" alt=\"Open In Colab\"/></a>"
      ]
    },
    {
      "cell_type": "code",
      "execution_count": null,
      "metadata": {
        "id": "GweZAzHY4Au2"
      },
      "outputs": [],
      "source": [
        "class Food(objects):\n",
        "  def __init__(self, n, v, w):\n",
        "    self.name = n\n",
        "    self.value = v\n",
        "    self.calories = w\n",
        "\n",
        "  def getValue(self):\n",
        "    return self.value\n",
        "\n",
        "  def getCost(self):\n",
        "    return self.calories\n",
        "\n",
        "  def density(self):\n",
        "    return self.getValue() / self.getCost()\n",
        "\n",
        "  def __str__(self):\n",
        "    return self.name + ': <' + str(self.getValue()) + ', ' + str(self.getCost()) + '>'"
      ]
    },
    {
      "cell_type": "code",
      "source": [
        "def buildMenu(names, values, calories):\n",
        "  \"\"\"\n",
        "  names, values, calories: lists of same length.\n",
        "  names: list of strings.\n",
        "  values, calories: lists of numbers.\n",
        "  Returns list of Foods\n",
        "  \"\"\"\n",
        "\n",
        "  assert len(names) == len(values) && len(values) == len(calories), 'names, values, calories lists have not the same length'\n",
        "\n",
        "  menu = []\n",
        "\n",
        "  for i in range(len(values)):\n",
        "    menu.append(Food(names[i], values[i], calories[i]))\n",
        "\n",
        "  return menu"
      ],
      "metadata": {
        "id": "8yT2zizQ4_DT"
      },
      "execution_count": null,
      "outputs": []
    },
    {
      "cell_type": "markdown",
      "source": [
        "#Greedy algorithm"
      ],
      "metadata": {
        "id": "TaVaPlS07IBN"
      }
    },
    {
      "cell_type": "code",
      "source": [
        "def greedy(items, maxCost, keyFunction):\n",
        "  \"\"\"\n",
        "  items: list.\n",
        "  maxCost >= 0.\n",
        "  keyFunction maps elements of items to numbers\n",
        "  \"\"\"\n",
        "\n",
        "  itemsSorted = sorted(items, key = keyFunction, reverse = True)\n",
        "\n",
        "  result = []\n",
        "  totalValue, totalCost = 0.0, 0.0\n",
        "\n",
        "  for item in itemsSorted:\n",
        "    if totalCost + item.getCost() <= maxCost:\n",
        "      result.append(item)\n",
        "      totalCost += item.getCost()\n",
        "      totalValue += item.getValue()\n",
        "\n",
        "  return (result, totalValue)"
      ],
      "metadata": {
        "id": "xiMQYZX97LG8"
      },
      "execution_count": null,
      "outputs": []
    },
    {
      "cell_type": "code",
      "source": [
        "def testGreedy(items, constraint, keyFunction):\n",
        "  taken, val = greedy(items, constraint, keyFunction)\n",
        "  print('Total value of items taken =', val)\n",
        "  for item in taken:\n",
        "    print('  ', item)"
      ],
      "metadata": {
        "id": "imjLRVIf-hGH"
      },
      "execution_count": null,
      "outputs": []
    },
    {
      "cell_type": "code",
      "source": [
        "def testGreedys(foods, maxUnits):\n",
        "  print('Use greedy by value to allocate', maxUnits, 'calories')\n",
        "  testGreedy(foods, maxUnits, Food.getValue)\n",
        "\n",
        "  print('\\nUse greedy by cost to allocate', maxUnits, 'calories')\n",
        "  testGreedy(foods, maxUnits, lambda x: 1 / Food.getCost(x))\n",
        "\n",
        "  print('\\nUse greedy by density to allocate', maxUnits, 'calories')\n",
        "  testGreedy(foods, maxUnits, Food.density)"
      ],
      "metadata": {
        "id": "dpP70i2QFjCq"
      },
      "execution_count": null,
      "outputs": []
    },
    {
      "cell_type": "code",
      "source": [
        "names = ['wine', 'beer', 'pizza', 'burger', 'fries', 'cola', 'apple', 'donut']\n",
        "values = [89, 90, 95, 100, 90, 79, 50, 10]\n",
        "calories = [123, 154, 258, 354, 365, 150, 95, 195]\n",
        "testGreedys(foods, 750)"
      ],
      "metadata": {
        "id": "Mb7L7fvwSmxw"
      },
      "execution_count": null,
      "outputs": []
    },
    {
      "cell_type": "code",
      "source": [
        "testGreedys(foods, 1000)"
      ],
      "metadata": {
        "id": "TgbRs7_2VOj4"
      },
      "execution_count": null,
      "outputs": []
    },
    {
      "cell_type": "code",
      "source": [],
      "metadata": {
        "id": "5d3A1HeKVQ0A"
      },
      "execution_count": null,
      "outputs": []
    }
  ]
}