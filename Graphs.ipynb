{
  "nbformat": 4,
  "nbformat_minor": 0,
  "metadata": {
    "colab": {
      "provenance": [],
      "authorship_tag": "ABX9TyNvNkK0zPwtACuCApb5LsCp",
      "include_colab_link": true
    },
    "kernelspec": {
      "name": "python3",
      "display_name": "Python 3"
    },
    "language_info": {
      "name": "python"
    }
  },
  "cells": [
    {
      "cell_type": "markdown",
      "metadata": {
        "id": "view-in-github",
        "colab_type": "text"
      },
      "source": [
        "<a href=\"https://colab.research.google.com/github/FabrizioBettetti/Computer_science/blob/main/Graphs.ipynb\" target=\"_parent\"><img src=\"https://colab.research.google.com/assets/colab-badge.svg\" alt=\"Open In Colab\"/></a>"
      ]
    },
    {
      "cell_type": "code",
      "execution_count": 2,
      "metadata": {
        "id": "Gwj5ZO1VSWcB"
      },
      "outputs": [],
      "source": [
        "class Node(object):\n",
        "  def __init__(self, name):\n",
        "    \"\"\"name: string\"\"\"\n",
        "    self.name = name\n",
        "\n",
        "  def getName(self):\n",
        "    return self.name\n",
        "\n",
        "  def __str__(self):\n",
        "    return self.name"
      ]
    },
    {
      "cell_type": "code",
      "source": [
        "class Edge(object):\n",
        "  def __init__(self, src, dest):\n",
        "    \"\"\"src and dest: instances of class Node\"\"\"\n",
        "    self.src = src\n",
        "    self.dest = dest\n",
        "\n",
        "  def getSource(self):\n",
        "    return self.src\n",
        "\n",
        "  def getDestination(self):\n",
        "    return self.dest\n",
        "\n",
        "  def __str__(self):\n",
        "    return self.src.getName() + ' -> ' + self.dest.getName()"
      ],
      "metadata": {
        "id": "0olN439QTOQz"
      },
      "execution_count": 3,
      "outputs": []
    },
    {
      "cell_type": "code",
      "source": [
        "class Digraph(object):\n",
        "  \"\"\"edges is a dict mapping each node to a list of its children\"\"\"\n",
        "\n",
        "  def __init__(self):\n",
        "    self.edges = {}\n",
        "\n",
        "  def addNode(self, node):\n",
        "    \"\"\"node: instance of class Node\"\"\"\n",
        "    if node in self.edges:\n",
        "      raise KeyError('Duplicate node')\n",
        "    else:\n",
        "      self.edges[node] = []\n",
        "\n"
      ],
      "metadata": {
        "id": "6Q3J0RTJTuzO"
      },
      "execution_count": null,
      "outputs": []
    }
  ]
}