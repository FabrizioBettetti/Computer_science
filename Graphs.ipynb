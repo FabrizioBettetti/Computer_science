{
  "nbformat": 4,
  "nbformat_minor": 0,
  "metadata": {
    "colab": {
      "provenance": [],
      "authorship_tag": "ABX9TyPb/Y7WUNyah/qMMQ6aPin9",
      "include_colab_link": true
    },
    "kernelspec": {
      "name": "python3",
      "display_name": "Python 3"
    },
    "language_info": {
      "name": "python"
    }
  },
  "cells": [
    {
      "cell_type": "markdown",
      "metadata": {
        "id": "view-in-github",
        "colab_type": "text"
      },
      "source": [
        "<a href=\"https://colab.research.google.com/github/FabrizioBettetti/Computer_science/blob/main/Graphs.ipynb\" target=\"_parent\"><img src=\"https://colab.research.google.com/assets/colab-badge.svg\" alt=\"Open In Colab\"/></a>"
      ]
    },
    {
      "cell_type": "code",
      "execution_count": null,
      "metadata": {
        "id": "Gwj5ZO1VSWcB"
      },
      "outputs": [],
      "source": [
        "class Node(object):\n",
        "  def __init__(self, name):\n",
        "    \"\"\"name: string\"\"\"\n",
        "    self.name = name\n",
        "\n",
        "  def getName(self):\n",
        "    return self.name\n",
        "\n",
        "  def __str__(self):\n",
        "    return self.name"
      ]
    },
    {
      "cell_type": "code",
      "source": [
        "class Edge(object):\n",
        "  def __init__(self, src, dest):\n",
        "    \"\"\"src and dest: instances of class Node\"\"\"\n",
        "    self.src = src\n",
        "    self.dest = dest\n",
        "\n",
        "  def getSource(self):\n",
        "    return self.src\n",
        "\n",
        "  def getDestination(self):\n",
        "    return self.dest\n",
        "\n",
        "  def __str__(self):\n",
        "    return self.src.getName() + ' -> ' + self.dest.getName()"
      ],
      "metadata": {
        "id": "0olN439QTOQz"
      },
      "execution_count": null,
      "outputs": []
    },
    {
      "cell_type": "code",
      "source": [
        "class Digraph(object):\n",
        "  \"\"\"edges is a dict mapping each node to a list of its children\"\"\"\n",
        "\n",
        "  def __init__(self):\n",
        "    self.edges = {}\n",
        "\n",
        "  def addNode(self, node):\n",
        "    \"\"\"node: instance of class Node\"\"\"\n",
        "    if node in self.edges:\n",
        "      raise ValueError('Duplicate node')\n",
        "    else:\n",
        "      self.edges[node] = []\n",
        "\n",
        "  def addEdge(self, edge):\n",
        "    \"\"\"edge: instance of class Edge\"\"\"\n",
        "    src = edge.GetSource()\n",
        "    dest = edge.getDestination()\n",
        "    if not (src in self.edges and dest in self.edges):\n",
        "      raise ValueError('Node not in graph')\n",
        "    self.edges[src].append(dest)\n",
        "\n",
        "  def childrenOf(self, node):\n",
        "    return self.edges[node]\n",
        "\n",
        "  def hasNode(self, node):\n",
        "    return node in self.edges\n",
        "\n",
        "  def getNode(self, name):\n",
        "    for n in self.edges:\n",
        "      if n.getName() == name:\n",
        "        return n\n",
        "    raise NameError(name)\n",
        "\n",
        "  def __str__(self):\n",
        "    result = ''\n",
        "    for src in self.edges:\n",
        "      for dest in self.edges[src]:\n",
        "        result = result + src.getName() + ' -> ' + dest.getName() + '\\n'\n",
        "    return result[:-1]   #Omit final newline"
      ],
      "metadata": {
        "id": "6Q3J0RTJTuzO"
      },
      "execution_count": null,
      "outputs": []
    },
    {
      "cell_type": "code",
      "source": [
        "class Graph(Digraph):\n",
        "  def addEdge(self, edge):\n",
        "    Digraph.addEdge(self, edge)\n",
        "    rev = Edge(edge.getDestination(), edge.getSource())\n",
        "    Digraph.addEdge(seld, rev)"
      ],
      "metadata": {
        "id": "1k1uN628MeZh"
      },
      "execution_count": null,
      "outputs": []
    },
    {
      "cell_type": "markdown",
      "source": [
        "#Shortest path"
      ],
      "metadata": {
        "id": "p8q5eezQTGbU"
      }
    },
    {
      "cell_type": "code",
      "source": [
        "def buildCityGraph(graphType):\n",
        "  g = graphType()\n",
        "\n",
        "  #Create nodes\n",
        "  for name in ('Boston', 'Providence', 'New York', 'Chicago', 'Denver', 'Phoenix', 'Los Angeles'):\n",
        "    g.addNode(Node(name))\n",
        "\n",
        "  #Create edges\n",
        "  g.addEdge(Edge(g.getNode('Boston'), g.getNode('Providence')))\n",
        "  g.addEdge(Edge(g.getNode('Boston'), g.getNode('New York')))\n",
        "  g.addEdge(Edge(g.getNode('Providence'), g.getNode('Boston')))\n",
        "  g.addEdge(Edge(g.getNode('Providence'), g.getNode('New York')))\n",
        "  g.addEdge(Edge(g.getNode('New York'), g.getNode('Chicago')))\n",
        "  g.addEdge(Edge(g.getNode('Chicago'), g.getNode('Denver')))\n",
        "  g.addEdge(Edge(g.getNode('Chicago'), g.getNode('Phoenix')))\n",
        "  g.addEdge(Edge(g.getNode('Denver'), g.getNode('Phoenix')))\n",
        "  g.addEdge(Edge(g.getNode('Denver'), g.getNode('New York')))\n",
        "  g.addEdge(Edge(g.getNode('Los Angeles'), g.getNode('Boston')))\n",
        "\n",
        "  return g"
      ],
      "metadata": {
        "id": "jqn2pgm8OKih"
      },
      "execution_count": null,
      "outputs": []
    },
    {
      "cell_type": "markdown",
      "source": [
        "##Depth first search (DFS)"
      ],
      "metadata": {
        "id": "YVaPuC_DThm0"
      }
    },
    {
      "cell_type": "code",
      "source": [
        "def printPath(path):\n",
        "  \"\"\"path: list of nodes\"\"\"\n",
        "\n",
        "  result = ''\n",
        "  for i in range(len(path)):\n",
        "    result = result + str(path[i])\n",
        "    if i != len(path) - 1:\n",
        "      result = result + '->'\n",
        "  return result"
      ],
      "metadata": {
        "id": "Um7HCLTTcJcz"
      },
      "execution_count": null,
      "outputs": []
    },
    {
      "cell_type": "code",
      "source": [
        "def DFS(graph, start, end, path, shortest, toPrint=False):\n",
        "  \"\"\"\n",
        "  start: start node.\n",
        "  end: end node:\n",
        "  path: list of nodes visited.\n",
        "  shortest: shortest path from start to end\n",
        "  \"\"\"\n",
        "\n",
        "  path = path + [start]   #path is initially an empty list. Add start node to path\n",
        "  if toPrint:\n",
        "    print('Current DFS path:', printPath(path))\n",
        "  if start == end:   #If start node is equal to end node, done!\n",
        "    return path\n",
        "  for node in graph.childrenOf(start):   #If not done, consider all the children of the start node (nodes I can reach with a single edge from start node)\n",
        "    if node not in path:   #Avoid cycles\n",
        "      if shortest == None or len(path) < len(shortest):   #If I haven't a solution yet or current solution is not the shortest\n",
        "        newPath = DFS(graph, node, end, path, shortest, toPrint)\n",
        "        if newPath != None:\n",
        "          shortest = newPath\n",
        "    elif toPrint:\n",
        "      print('Already visited', node)\n",
        "  return shortest"
      ],
      "metadata": {
        "id": "NiKvfINFTjMd"
      },
      "execution_count": null,
      "outputs": []
    },
    {
      "cell_type": "code",
      "source": [
        "def shortestPath(graph, start, end, toPrint=False):\n",
        "  return DFS(graph, start, end, [], None, toPrint)"
      ],
      "metadata": {
        "id": "weQvEOhaVrPW"
      },
      "execution_count": null,
      "outputs": []
    },
    {
      "cell_type": "code",
      "source": [
        "def testSP(source, destination):\n",
        "  g = buildCityGraph(DiGraph)\n",
        "  sp = shortestPath(g, g.getNode(source), g.getNode(destination), toPrint=True)\n",
        "  if sp != None:\n",
        "    print('Shortest path from', source, 'to', destination, 'is', printPath(sp))\n",
        "  else:\n",
        "    print('There is no path from', source, 'to', destination)"
      ],
      "metadata": {
        "id": "WzMt5a2cV3BF"
      },
      "execution_count": null,
      "outputs": []
    },
    {
      "cell_type": "code",
      "source": [
        "testSP('Boston', 'Chicago')"
      ],
      "metadata": {
        "id": "DThE-Oh5bwQb"
      },
      "execution_count": null,
      "outputs": []
    },
    {
      "cell_type": "markdown",
      "source": [
        "##Breadth first search (BFS)"
      ],
      "metadata": {
        "id": "sHJimAj7gTNF"
      }
    },
    {
      "cell_type": "code",
      "source": [
        "def BFS(graph, start, end, toPrint=False):\n",
        "  initPath = [start]\n",
        "  pathQueue = [initPath]   #List of paths (list of lists)\n",
        "  while len(pathQueue) != 0:\n",
        "    #Get and remove oldest path in pathQueue (the path at the beginning)\n",
        "    tmpPath = pathQueue.pop(0)\n",
        "    if toPrint:\n",
        "      print('Current BFS path:', printPath(tmpPath))\n",
        "    lastNode = tmpPath[-1]\n",
        "    if lastNode == end:\n",
        "      return tmpPath\n",
        "    for nextNode in graph.childrenOf(lastNode):\n",
        "      if nextNode not in tmpPath:\n",
        "        newPath = tmpPath + [nextNode]\n",
        "        pathQueue.append(newPath)\n",
        "  return None"
      ],
      "metadata": {
        "id": "k-z_boUlgRAF"
      },
      "execution_count": null,
      "outputs": []
    }
  ]
}