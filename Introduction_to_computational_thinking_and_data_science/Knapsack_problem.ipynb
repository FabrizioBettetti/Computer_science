{
  "nbformat": 4,
  "nbformat_minor": 0,
  "metadata": {
    "colab": {
      "provenance": [],
      "authorship_tag": "ABX9TyO09yvXnbwL+fXHh5j7IIhZ",
      "include_colab_link": true
    },
    "kernelspec": {
      "name": "python3",
      "display_name": "Python 3"
    },
    "language_info": {
      "name": "python"
    }
  },
  "cells": [
    {
      "cell_type": "markdown",
      "metadata": {
        "id": "view-in-github",
        "colab_type": "text"
      },
      "source": [
        "<a href=\"https://colab.research.google.com/github/FabrizioBettetti/Computer_science/blob/main/Knapsack_problem.ipynb\" target=\"_parent\"><img src=\"https://colab.research.google.com/assets/colab-badge.svg\" alt=\"Open In Colab\"/></a>"
      ]
    },
    {
      "cell_type": "code",
      "execution_count": 1,
      "metadata": {
        "id": "GweZAzHY4Au2"
      },
      "outputs": [],
      "source": [
        "class Food(object):\n",
        "  def __init__(self, n, v, w):\n",
        "    self.name = n\n",
        "    self.value = v\n",
        "    self.calories = w\n",
        "\n",
        "  def getValue(self):\n",
        "    return self.value\n",
        "\n",
        "  def getCost(self):\n",
        "    return self.calories\n",
        "\n",
        "  def density(self):\n",
        "    return self.getValue() / self.getCost()\n",
        "\n",
        "  def __str__(self):\n",
        "    return self.name + ': <' + str(self.getValue()) + ', ' + str(self.getCost()) + '>'"
      ]
    },
    {
      "cell_type": "code",
      "source": [
        "def buildMenu(names, values, calories):\n",
        "  \"\"\"\n",
        "  names, values, calories: lists of same length.\n",
        "  names: list of strings.\n",
        "  values, calories: lists of numbers.\n",
        "  Returns list of Foods\n",
        "  \"\"\"\n",
        "\n",
        "  assert len(names) == len(values) and len(values) == len(calories), 'names, values, calories lists have not the same length'\n",
        "\n",
        "  menu = []\n",
        "\n",
        "  for i in range(len(values)):\n",
        "    menu.append(Food(names[i], values[i], calories[i]))\n",
        "\n",
        "  return menu"
      ],
      "metadata": {
        "id": "8yT2zizQ4_DT"
      },
      "execution_count": 2,
      "outputs": []
    },
    {
      "cell_type": "markdown",
      "source": [
        "#Greedy algorithm"
      ],
      "metadata": {
        "id": "TaVaPlS07IBN"
      }
    },
    {
      "cell_type": "code",
      "source": [
        "def greedy(items, maxCost, keyFunction):\n",
        "  \"\"\"\n",
        "  items: list.\n",
        "  maxCost >= 0.\n",
        "  keyFunction maps elements of items to numbers\n",
        "  \"\"\"\n",
        "\n",
        "  itemsSorted = sorted(items, key = keyFunction, reverse = True)\n",
        "\n",
        "  result = []\n",
        "  totalValue, totalCost = 0.0, 0.0\n",
        "\n",
        "  for item in itemsSorted:\n",
        "    if totalCost + item.getCost() <= maxCost:\n",
        "      result.append(item)\n",
        "      totalCost += item.getCost()\n",
        "      totalValue += item.getValue()\n",
        "\n",
        "  return (result, totalValue)"
      ],
      "metadata": {
        "id": "xiMQYZX97LG8"
      },
      "execution_count": 3,
      "outputs": []
    },
    {
      "cell_type": "code",
      "source": [
        "def testGreedy(items, constraint, keyFunction):\n",
        "  taken, val = greedy(items, constraint, keyFunction)\n",
        "  print('Total value of items taken =', val)\n",
        "  for item in taken:\n",
        "    print('  ', item)"
      ],
      "metadata": {
        "id": "imjLRVIf-hGH"
      },
      "execution_count": 4,
      "outputs": []
    },
    {
      "cell_type": "code",
      "source": [
        "def testGreedys(foods, maxUnits):\n",
        "  print('Use greedy by value to allocate', maxUnits, 'calories')\n",
        "  testGreedy(foods, maxUnits, Food.getValue)\n",
        "\n",
        "  print('\\nUse greedy by cost to allocate', maxUnits, 'calories')\n",
        "  testGreedy(foods, maxUnits, lambda x: 1 / Food.getCost(x))\n",
        "\n",
        "  print('\\nUse greedy by density to allocate', maxUnits, 'calories')\n",
        "  testGreedy(foods, maxUnits, Food.density)"
      ],
      "metadata": {
        "id": "dpP70i2QFjCq"
      },
      "execution_count": 5,
      "outputs": []
    },
    {
      "cell_type": "code",
      "source": [
        "names = ['wine', 'beer', 'pizza', 'burger', 'fries', 'cola', 'apple', 'donut']\n",
        "values = [89, 90, 95, 100, 90, 79, 50, 10]\n",
        "calories = [123, 154, 258, 354, 365, 150, 95, 195]\n",
        "foods = buildMenu(names, values, calories)\n",
        "testGreedys(foods, 750)"
      ],
      "metadata": {
        "id": "Mb7L7fvwSmxw",
        "outputId": "d724f27f-8d70-485d-f752-48ed19413e16",
        "colab": {
          "base_uri": "https://localhost:8080/"
        }
      },
      "execution_count": 6,
      "outputs": [
        {
          "output_type": "stream",
          "name": "stdout",
          "text": [
            "Use greedy by value to allocate 750 calories\n",
            "Total value of items taken = 284.0\n",
            "   burger: <100, 354>\n",
            "   pizza: <95, 258>\n",
            "   wine: <89, 123>\n",
            "\n",
            "Use greedy by cost to allocate 750 calories\n",
            "Total value of items taken = 318.0\n",
            "   apple: <50, 95>\n",
            "   wine: <89, 123>\n",
            "   cola: <79, 150>\n",
            "   beer: <90, 154>\n",
            "   donut: <10, 195>\n",
            "\n",
            "Use greedy by density to allocate 750 calories\n",
            "Total value of items taken = 318.0\n",
            "   wine: <89, 123>\n",
            "   beer: <90, 154>\n",
            "   cola: <79, 150>\n",
            "   apple: <50, 95>\n",
            "   donut: <10, 195>\n"
          ]
        }
      ]
    },
    {
      "cell_type": "code",
      "source": [
        "testGreedys(foods, 1000)"
      ],
      "metadata": {
        "id": "TgbRs7_2VOj4",
        "outputId": "50220aa5-48f8-4892-dd03-19bfb38b8e2d",
        "colab": {
          "base_uri": "https://localhost:8080/"
        }
      },
      "execution_count": 7,
      "outputs": [
        {
          "output_type": "stream",
          "name": "stdout",
          "text": [
            "Use greedy by value to allocate 1000 calories\n",
            "Total value of items taken = 424.0\n",
            "   burger: <100, 354>\n",
            "   pizza: <95, 258>\n",
            "   beer: <90, 154>\n",
            "   wine: <89, 123>\n",
            "   apple: <50, 95>\n",
            "\n",
            "Use greedy by cost to allocate 1000 calories\n",
            "Total value of items taken = 413.0\n",
            "   apple: <50, 95>\n",
            "   wine: <89, 123>\n",
            "   cola: <79, 150>\n",
            "   beer: <90, 154>\n",
            "   donut: <10, 195>\n",
            "   pizza: <95, 258>\n",
            "\n",
            "Use greedy by density to allocate 1000 calories\n",
            "Total value of items taken = 413.0\n",
            "   wine: <89, 123>\n",
            "   beer: <90, 154>\n",
            "   cola: <79, 150>\n",
            "   apple: <50, 95>\n",
            "   pizza: <95, 258>\n",
            "   donut: <10, 195>\n"
          ]
        }
      ]
    },
    {
      "cell_type": "markdown",
      "source": [
        "#Brute force with search tree algorithm"
      ],
      "metadata": {
        "id": "hWxKF6vduUFO"
      }
    },
    {
      "cell_type": "code",
      "source": [
        "def maxVal(toConsider, avail):\n",
        "  \"\"\"\n",
        "  toConsider: list of items.\n",
        "  avail: a weight.\n",
        "  Returns a tuple of the total value of a solution to knapsack problem and the items of that solution\n",
        "  \"\"\"\n",
        "\n",
        "  if toConsider == [] or avail == 0:\n",
        "    result = (0, tuple())\n",
        "  elif toConsider[0].getCost() > avail:\n",
        "    result = maxVal(toConsider[1:], avail)\n",
        "  else:\n",
        "    nextItem = toConsider[0]\n",
        "    withVal, withToTake = maxVal(toConsider[1:], avail - nextItem.getCost())\n",
        "    withVal += nextItem.getValue()\n",
        "    withoutVal, withoutToTake = maxVal(toConsider[1:], avail)\n",
        "    if withVal > withoutVal:\n",
        "      result = (withVal, withToTake + (nextItem,))\n",
        "    else:\n",
        "      result = (withoutVal, withoutToTake)\n",
        "  return result"
      ],
      "metadata": {
        "id": "bpiMQLxVuUYV"
      },
      "execution_count": 8,
      "outputs": []
    },
    {
      "cell_type": "code",
      "source": [
        "def testMaxVal(foods, maxUnits, printItems=True):\n",
        "  print('Use search tree to allocate', maxUnits, 'calories')\n",
        "  val, taken = maxVal(foods, maxUnits)\n",
        "  print('Total value of items taken =', val)\n",
        "  if printItems:\n",
        "    for item in taken:\n",
        "      print('  ', item)"
      ],
      "metadata": {
        "id": "5d3A1HeKVQ0A"
      },
      "execution_count": 9,
      "outputs": []
    },
    {
      "cell_type": "code",
      "source": [
        "names = ['wine', 'beer', 'pizza', 'burger', 'fries', 'cola', 'apple', 'donut']\n",
        "values = [89, 90, 95, 100, 90, 79, 50, 10]\n",
        "calories = [123, 154, 258, 354, 365, 150, 95, 195]\n",
        "foods = buildMenu(names, values, calories)\n",
        "testMaxVal(foods, 750)"
      ],
      "metadata": {
        "colab": {
          "base_uri": "https://localhost:8080/"
        },
        "id": "zlZS0TCCOx0I",
        "outputId": "97ee5c54-231a-4f3d-99b2-a8197ddbf794"
      },
      "execution_count": 10,
      "outputs": [
        {
          "output_type": "stream",
          "name": "stdout",
          "text": [
            "Use search tree to allocate 750 calories\n",
            "Total value of items taken = 353\n",
            "   cola: <79, 150>\n",
            "   pizza: <95, 258>\n",
            "   beer: <90, 154>\n",
            "   wine: <89, 123>\n"
          ]
        }
      ]
    },
    {
      "cell_type": "markdown",
      "source": [
        "##Try with different menu sizes"
      ],
      "metadata": {
        "id": "MjF4wTAOQgPR"
      }
    },
    {
      "cell_type": "code",
      "source": [
        "import random"
      ],
      "metadata": {
        "id": "OTj3usuMRSTm"
      },
      "execution_count": 11,
      "outputs": []
    },
    {
      "cell_type": "code",
      "source": [
        "def buildLargeMenu(numItems, maxVal, maxCost):\n",
        "  items = []\n",
        "  for i in range(numItems):\n",
        "    item = Food(str(i), random.randint(1, maxVal), random.randint(1, maxCost))\n",
        "    items.append(item)\n",
        "  return items\n",
        "\n",
        "#random.randint(a, b) return a random integer number in the interval [a, b]"
      ],
      "metadata": {
        "id": "iKgOOtN7QiWV"
      },
      "execution_count": 12,
      "outputs": []
    },
    {
      "cell_type": "code",
      "source": [
        "for numItems in (5, 10, 15, 20, 25, 30, 35):\n",
        "  print('Number of items =', numItems)\n",
        "  items = buildLargeMenu(numItems, 90, 250)\n",
        "  testMaxVal(items, 750, False)\n",
        "  print()"
      ],
      "metadata": {
        "colab": {
          "base_uri": "https://localhost:8080/"
        },
        "id": "gN7jzn3eRqnZ",
        "outputId": "d400ff14-b3e1-423d-8405-b54f4b4b9367"
      },
      "execution_count": 13,
      "outputs": [
        {
          "output_type": "stream",
          "name": "stdout",
          "text": [
            "Number of items = 5\n",
            "Use search tree to allocate 750 calories\n",
            "Total value of items taken = 248\n",
            "\n",
            "Number of items = 10\n",
            "Use search tree to allocate 750 calories\n",
            "Total value of items taken = 475\n",
            "\n",
            "Number of items = 15\n",
            "Use search tree to allocate 750 calories\n",
            "Total value of items taken = 527\n",
            "\n",
            "Number of items = 20\n",
            "Use search tree to allocate 750 calories\n",
            "Total value of items taken = 484\n",
            "\n",
            "Number of items = 25\n",
            "Use search tree to allocate 750 calories\n",
            "Total value of items taken = 406\n",
            "\n",
            "Number of items = 30\n",
            "Use search tree to allocate 750 calories\n",
            "Total value of items taken = 524\n",
            "\n",
            "Number of items = 35\n",
            "Use search tree to allocate 750 calories\n",
            "Total value of items taken = 575\n",
            "\n"
          ]
        }
      ]
    },
    {
      "cell_type": "markdown",
      "source": [
        "##Dynamic programming (fast implementation)"
      ],
      "metadata": {
        "id": "7YhedMU-47Gb"
      }
    },
    {
      "cell_type": "code",
      "source": [
        "def fastMaxVal(toConsider, avail, memo={}):\n",
        "    \"\"\"\n",
        "    toConsider: list of subjects.\n",
        "    avail: a weight.\n",
        "    memo: supplied by recursive calls.\n",
        "    Returns a tuple of the total value of a solution to the knapsack problem and the subjects of that solution\n",
        "    \"\"\"\n",
        "\n",
        "    if (len(toConsider), avail) in memo:\n",
        "        result = memo[(len(toConsider), avail)]\n",
        "    elif toConsider == [] or avail == 0:\n",
        "        result = (0, tuple())\n",
        "    elif toConsider[0].getCost() > avail:\n",
        "        #Explore right branch only\n",
        "        result = fastMaxVal(toConsider[1:], avail, memo)\n",
        "    else:\n",
        "        nextItem = toConsider[0]\n",
        "        #Explore left branch\n",
        "        withVal, withToTake = fastMaxVal(toConsider[1:], avail - nextItem.getCost(), memo)\n",
        "        withVal += nextItem.getValue()\n",
        "\n",
        "        #Explore right branch\n",
        "        withoutVal, withoutToTake = fastMaxVal(toConsider[1:], avail, memo)\n",
        "\n",
        "        #Choose better branch\n",
        "        if withVal > withoutVal:\n",
        "            result = (withVal, withToTake + (nextItem,))\n",
        "        else:\n",
        "            result = (withoutVal, withoutToTake)\n",
        "\n",
        "    memo[(len(toConsider), avail)] = result\n",
        "\n",
        "    return result"
      ],
      "metadata": {
        "id": "L1pVkFrfSQ2J"
      },
      "execution_count": 14,
      "outputs": []
    },
    {
      "cell_type": "code",
      "source": [
        "def testMaxVal(foods, maxUnits, algorithm, printItems = True):\n",
        "    print('Menu contains', len(foods), 'items')\n",
        "    print('Use search tree to allocate', maxUnits, 'calories')\n",
        "    val, taken = algorithm(foods, maxUnits)\n",
        "    if printItems:\n",
        "        print('Total value of items taken =', val)\n",
        "        for item in taken:\n",
        "            print('   ', item)"
      ],
      "metadata": {
        "id": "JKBe0kEz8MmZ"
      },
      "execution_count": 15,
      "outputs": []
    },
    {
      "cell_type": "code",
      "source": [
        "for numItems in (5, 10, 15, 20, 25, 30, 35):\n",
        "    items = buildLargeMenu(numItems, 90, 250)\n",
        "    testMaxVal(items, 750, fastMaxVal, True)"
      ],
      "metadata": {
        "id": "pm1prGTt8Uir",
        "outputId": "5646c981-e24a-4096-bd2e-fe93ad18e0bb",
        "colab": {
          "base_uri": "https://localhost:8080/"
        }
      },
      "execution_count": 16,
      "outputs": [
        {
          "output_type": "stream",
          "name": "stdout",
          "text": [
            "Menu contains 5 items\n",
            "Use search tree to allocate 750 calories\n",
            "Total value of items taken = 189\n",
            "    4: <51, 109>\n",
            "    3: <46, 49>\n",
            "    2: <35, 89>\n",
            "    1: <52, 187>\n",
            "    0: <5, 164>\n",
            "Menu contains 10 items\n",
            "Use search tree to allocate 750 calories\n",
            "Total value of items taken = 358\n",
            "    8: <42, 31>\n",
            "    7: <55, 109>\n",
            "    6: <23, 32>\n",
            "    4: <41, 195>\n",
            "    3: <26, 87>\n",
            "    2: <43, 161>\n",
            "    1: <44, 93>\n",
            "    0: <84, 35>\n",
            "Menu contains 15 items\n",
            "Use search tree to allocate 750 calories\n",
            "Total value of items taken = 418\n",
            "    8: <42, 31>\n",
            "    7: <78, 124>\n",
            "    6: <75, 193>\n",
            "    4: <37, 35>\n",
            "    3: <69, 186>\n",
            "    2: <21, 42>\n",
            "    1: <52, 99>\n",
            "    0: <44, 36>\n",
            "Menu contains 20 items\n",
            "Use search tree to allocate 750 calories\n",
            "Total value of items taken = 558\n",
            "    8: <42, 31>\n",
            "    14: <79, 46>\n",
            "    13: <70, 59>\n",
            "    12: <79, 226>\n",
            "    11: <84, 178>\n",
            "    8: <87, 11>\n",
            "    1: <61, 115>\n",
            "    0: <56, 42>\n",
            "Menu contains 25 items\n",
            "Use search tree to allocate 750 calories\n",
            "Total value of items taken = 631\n",
            "    8: <42, 31>\n",
            "    7: <55, 109>\n",
            "    14: <79, 46>\n",
            "    13: <70, 59>\n",
            "    17: <71, 149>\n",
            "    15: <53, 28>\n",
            "    14: <80, 78>\n",
            "    11: <29, 62>\n",
            "    9: <79, 9>\n",
            "    1: <73, 99>\n",
            "Menu contains 30 items\n",
            "Use search tree to allocate 750 calories\n",
            "Total value of items taken = 859\n",
            "    8: <42, 31>\n",
            "    16: <79, 148>\n",
            "    13: <70, 59>\n",
            "    15: <53, 28>\n",
            "    14: <80, 78>\n",
            "    13: <21, 10>\n",
            "    16: <70, 32>\n",
            "    15: <82, 88>\n",
            "    12: <76, 61>\n",
            "    9: <86, 52>\n",
            "    8: <55, 76>\n",
            "    4: <73, 8>\n",
            "    2: <23, 45>\n",
            "    0: <49, 30>\n",
            "Menu contains 35 items\n",
            "Use search tree to allocate 750 calories\n",
            "Total value of items taken = 859\n",
            "    8: <42, 31>\n",
            "    16: <79, 148>\n",
            "    13: <70, 59>\n",
            "    15: <53, 28>\n",
            "    14: <80, 78>\n",
            "    13: <21, 10>\n",
            "    16: <70, 32>\n",
            "    15: <82, 88>\n",
            "    12: <76, 61>\n",
            "    9: <86, 52>\n",
            "    8: <55, 76>\n",
            "    4: <73, 8>\n",
            "    2: <23, 45>\n",
            "    0: <49, 30>\n"
          ]
        }
      ]
    },
    {
      "cell_type": "code",
      "source": [],
      "metadata": {
        "id": "Zn1dm5i08afd"
      },
      "execution_count": 16,
      "outputs": []
    }
  ]
}