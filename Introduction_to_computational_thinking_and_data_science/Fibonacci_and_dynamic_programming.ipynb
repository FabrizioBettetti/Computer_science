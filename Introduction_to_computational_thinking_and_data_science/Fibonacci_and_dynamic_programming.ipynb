{
  "nbformat": 4,
  "nbformat_minor": 0,
  "metadata": {
    "colab": {
      "provenance": [],
      "authorship_tag": "ABX9TyMuQzbHGr3OO7eOqhpiEBe3",
      "include_colab_link": true
    },
    "kernelspec": {
      "name": "python3",
      "display_name": "Python 3"
    },
    "language_info": {
      "name": "python"
    }
  },
  "cells": [
    {
      "cell_type": "markdown",
      "metadata": {
        "id": "view-in-github",
        "colab_type": "text"
      },
      "source": [
        "<a href=\"https://colab.research.google.com/github/FabrizioBettetti/Computer_science/blob/main/Fibonacci_and_dynamic_programming.ipynb\" target=\"_parent\"><img src=\"https://colab.research.google.com/assets/colab-badge.svg\" alt=\"Open In Colab\"/></a>"
      ]
    },
    {
      "cell_type": "markdown",
      "source": [
        "#Slow implementation"
      ],
      "metadata": {
        "id": "qm9oYzGnuiia"
      }
    },
    {
      "cell_type": "code",
      "execution_count": null,
      "metadata": {
        "id": "aApxNQBguTCG"
      },
      "outputs": [],
      "source": [
        "def fib(n):\n",
        "  if n == 0 or n == 1:\n",
        "    return 1\n",
        "  else:\n",
        "    return fib(n - 1) + fib(n - 2)"
      ]
    },
    {
      "cell_type": "code",
      "source": [
        "for i in range(39):\n",
        "  print('fib(' + str(i) + ') =', fib(i))"
      ],
      "metadata": {
        "colab": {
          "base_uri": "https://localhost:8080/"
        },
        "id": "yIFvd83buzNh",
        "outputId": "2c191e6b-5a73-41c1-f10b-f7716decb9ae"
      },
      "execution_count": null,
      "outputs": [
        {
          "output_type": "stream",
          "name": "stdout",
          "text": [
            "fib(0) = 1\n",
            "fib(1) = 1\n",
            "fib(2) = 2\n",
            "fib(3) = 3\n",
            "fib(4) = 5\n",
            "fib(5) = 8\n",
            "fib(6) = 13\n",
            "fib(7) = 21\n",
            "fib(8) = 34\n",
            "fib(9) = 55\n",
            "fib(10) = 89\n",
            "fib(11) = 144\n",
            "fib(12) = 233\n",
            "fib(13) = 377\n",
            "fib(14) = 610\n",
            "fib(15) = 987\n",
            "fib(16) = 1597\n",
            "fib(17) = 2584\n",
            "fib(18) = 4181\n",
            "fib(19) = 6765\n",
            "fib(20) = 10946\n",
            "fib(21) = 17711\n",
            "fib(22) = 28657\n",
            "fib(23) = 46368\n",
            "fib(24) = 75025\n",
            "fib(25) = 121393\n",
            "fib(26) = 196418\n",
            "fib(27) = 317811\n",
            "fib(28) = 514229\n",
            "fib(29) = 832040\n",
            "fib(30) = 1346269\n",
            "fib(31) = 2178309\n",
            "fib(32) = 3524578\n",
            "fib(33) = 5702887\n",
            "fib(34) = 9227465\n",
            "fib(35) = 14930352\n",
            "fib(36) = 24157817\n",
            "fib(37) = 39088169\n",
            "fib(38) = 63245986\n"
          ]
        }
      ]
    },
    {
      "cell_type": "markdown",
      "source": [
        "#Fast implementation (dynamic programming)"
      ],
      "metadata": {
        "id": "lTpLtygNvR1l"
      }
    },
    {
      "cell_type": "code",
      "source": [
        "def fastFib(n, memo={}):\n",
        "  \"\"\"\n",
        "  n: int >= 0.\n",
        "  memo: used only by recursive calls.\n",
        "  Returns Fibonacci of n\n",
        "  \"\"\"\n",
        "\n",
        "  if n == 0 or n == 1:\n",
        "    return 1\n",
        "  try:\n",
        "    return memo[n]   #n found in the dictionary: look-up and return it\n",
        "  except KeyError:   #n not found (as key) in the dictionary\n",
        "    result = fastFib(n - 1) + fastFib(n - 2)\n",
        "    memo[n] = result\n",
        "    return result"
      ],
      "metadata": {
        "id": "EsAI5jd_vKjh"
      },
      "execution_count": null,
      "outputs": []
    },
    {
      "cell_type": "code",
      "source": [
        "for i in range(39):\n",
        "  print('fib(' + str(i) + ') =', fastFib(i))"
      ],
      "metadata": {
        "colab": {
          "base_uri": "https://localhost:8080/"
        },
        "id": "XVGRnXH1wZXx",
        "outputId": "63ba2c57-016d-45be-e01c-a800365139af"
      },
      "execution_count": null,
      "outputs": [
        {
          "output_type": "stream",
          "name": "stdout",
          "text": [
            "fib(0) = 1\n",
            "fib(1) = 1\n",
            "fib(2) = 2\n",
            "fib(3) = 3\n",
            "fib(4) = 5\n",
            "fib(5) = 8\n",
            "fib(6) = 13\n",
            "fib(7) = 21\n",
            "fib(8) = 34\n",
            "fib(9) = 55\n",
            "fib(10) = 89\n",
            "fib(11) = 144\n",
            "fib(12) = 233\n",
            "fib(13) = 377\n",
            "fib(14) = 610\n",
            "fib(15) = 987\n",
            "fib(16) = 1597\n",
            "fib(17) = 2584\n",
            "fib(18) = 4181\n",
            "fib(19) = 6765\n",
            "fib(20) = 10946\n",
            "fib(21) = 17711\n",
            "fib(22) = 28657\n",
            "fib(23) = 46368\n",
            "fib(24) = 75025\n",
            "fib(25) = 121393\n",
            "fib(26) = 196418\n",
            "fib(27) = 317811\n",
            "fib(28) = 514229\n",
            "fib(29) = 832040\n",
            "fib(30) = 1346269\n",
            "fib(31) = 2178309\n",
            "fib(32) = 3524578\n",
            "fib(33) = 5702887\n",
            "fib(34) = 9227465\n",
            "fib(35) = 14930352\n",
            "fib(36) = 24157817\n",
            "fib(37) = 39088169\n",
            "fib(38) = 63245986\n"
          ]
        }
      ]
    },
    {
      "cell_type": "code",
      "source": [],
      "metadata": {
        "id": "84bjPUtSwr4h"
      },
      "execution_count": null,
      "outputs": []
    }
  ]
}