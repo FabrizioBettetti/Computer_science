{
  "nbformat": 4,
  "nbformat_minor": 0,
  "metadata": {
    "colab": {
      "provenance": [],
      "authorship_tag": "ABX9TyMUUw1NgRErXW36ullyCV1H",
      "include_colab_link": true
    },
    "kernelspec": {
      "name": "python3",
      "display_name": "Python 3"
    },
    "language_info": {
      "name": "python"
    }
  },
  "cells": [
    {
      "cell_type": "markdown",
      "metadata": {
        "id": "view-in-github",
        "colab_type": "text"
      },
      "source": [
        "<a href=\"https://colab.research.google.com/github/FabrizioBettetti/Computer_science/blob/main/Random_processes.ipynb\" target=\"_parent\"><img src=\"https://colab.research.google.com/assets/colab-badge.svg\" alt=\"Open In Colab\"/></a>"
      ]
    },
    {
      "cell_type": "code",
      "execution_count": null,
      "metadata": {
        "id": "l_MTbS041_uu"
      },
      "outputs": [],
      "source": [
        "import random"
      ]
    },
    {
      "cell_type": "markdown",
      "source": [
        "#Die rolling"
      ],
      "metadata": {
        "id": "D3rbx2M6HIub"
      }
    },
    {
      "cell_type": "code",
      "source": [
        "def rollDie():\n",
        "  \"\"\"\n",
        "  Returns a random int between 1 and 6\n",
        "  \"\"\"\n",
        "\n",
        "  return random.choice([1, 2, 3, 4, 5, 6])"
      ],
      "metadata": {
        "id": "eyZiqp7r2IIg"
      },
      "execution_count": null,
      "outputs": []
    },
    {
      "cell_type": "code",
      "source": [
        "def testRoll(n=10):\n",
        "  result = ''\n",
        "  for i in range(n):\n",
        "    result = result + str(rollDie())\n",
        "  print(result)"
      ],
      "metadata": {
        "id": "W2P8ngIZ2RoI"
      },
      "execution_count": null,
      "outputs": []
    },
    {
      "cell_type": "code",
      "source": [
        "testRoll(5)"
      ],
      "metadata": {
        "id": "_c0D9siO2gD4"
      },
      "execution_count": null,
      "outputs": []
    },
    {
      "cell_type": "code",
      "source": [
        "random.seed(0)"
      ],
      "metadata": {
        "id": "szFELq-5C5qz"
      },
      "execution_count": null,
      "outputs": []
    },
    {
      "cell_type": "code",
      "source": [
        "def runSim(goal, numTrials, txt):\n",
        "  total = 0\n",
        "  for i in range(numTrials):\n",
        "    result = ''\n",
        "    for j in range(len(goal)):\n",
        "      result += str(rollDie())\n",
        "    if result == goal:\n",
        "      total += 1\n",
        "  print('Actual probaility of', txt, '=', round(1 / (6 ** len(goal), 8)))\n",
        "  estProbability = round(total / numTrials, 8)\n",
        "  print('Estimated probaility of', txt, '=', round(estProbability, 8)))"
      ],
      "metadata": {
        "id": "YoPib4Wp4Voy"
      },
      "execution_count": null,
      "outputs": []
    },
    {
      "cell_type": "code",
      "source": [
        "runSim('11111', 1000, '11111')"
      ],
      "metadata": {
        "id": "JiR8zRqH9vB0"
      },
      "execution_count": null,
      "outputs": []
    },
    {
      "cell_type": "code",
      "source": [
        "runSim('11111', 1000000, '11111')"
      ],
      "metadata": {
        "id": "NjJtSugo9ypL"
      },
      "execution_count": null,
      "outputs": []
    },
    {
      "cell_type": "markdown",
      "source": [
        "#The birthday problem"
      ],
      "metadata": {
        "id": "Ng-W5cigHEPM"
      }
    },
    {
      "cell_type": "code",
      "source": [
        "def sameDate(numPeople, numSame):\n",
        "  possibleDates = range(366)   #Account for 29th Febrauary\n",
        "  birthdays = [0] * 366\n",
        "  for p in range(numPeople):\n",
        "    birthDate = random.choice(possibleDates)\n",
        "    birthdays[birthDate] += 1\n",
        "  return max(birthdays) >= numSame"
      ],
      "metadata": {
        "id": "hVL5Z1tUHGiU"
      },
      "execution_count": null,
      "outputs": []
    },
    {
      "cell_type": "code",
      "source": [
        "def birthdayProb(numPeople, numSame, numTrials):\n",
        "  numHits = 0\n",
        "  for t in range(numTrials):\n",
        "    if sameDate(numPeople, numSame):\n",
        "      numHits += 1\n",
        "  return numHits / numTrials"
      ],
      "metadata": {
        "id": "S__dL-AyHq7F"
      },
      "execution_count": null,
      "outputs": []
    },
    {
      "cell_type": "markdown",
      "source": [
        "Probabilities for at least 2 people share the same birthdate:"
      ],
      "metadata": {
        "id": "JT_UPdCJSkP2"
      }
    },
    {
      "cell_type": "code",
      "source": [
        "for numPeople in [10, 20, 40, 100]:\n",
        "  print('For', numPeople, 'estimated probability of a shared birthday is', birthdayProb(numPeople, 2, 10000))\n",
        "  numerator = math.factorial(366)\n",
        "  denom = (366 ** numPeople) * math.factorial(366 - numPeople)\n",
        "  print('Actual probability for N =', numPeople, '=', 1 - numerator / denom)"
      ],
      "metadata": {
        "id": "37_qL66EImOY"
      },
      "execution_count": null,
      "outputs": []
    },
    {
      "cell_type": "markdown",
      "source": [
        "Probability for at least 3 people share the same birthdate:"
      ],
      "metadata": {
        "id": "FL0FCUEhSp-N"
      }
    },
    {
      "cell_type": "code",
      "source": [
        "for numPeople in [10, 20, 40, 100]:\n",
        "  print('For', numPeople, 'estimated probability of a shared birthday is', birthdayProb(numPeople, 3, 10000))"
      ],
      "metadata": {
        "id": "wIl5P_16MduO"
      },
      "execution_count": null,
      "outputs": []
    },
    {
      "cell_type": "markdown",
      "source": [
        "Birthdates not equally likely:"
      ],
      "metadata": {
        "id": "7OP6XrzESs8m"
      }
    },
    {
      "cell_type": "code",
      "source": [
        "def sameDateNotEquallyLikely(numPeople, numSame):\n",
        "  possibleDates = 4 * list(range(0, 57)) + [58] + 4 * list(range(59, 366)) + 4 * list(range(180, 270))\n",
        "  birthdays = [0] * 366\n",
        "  for p in range(numPeople):\n",
        "    birthDate = random.choice(possibleDates)\n",
        "    birthdays[birthDate] += 1\n",
        "  return max(birthdays) >= numSame"
      ],
      "metadata": {
        "id": "JOlNDVlWSUxW"
      },
      "execution_count": null,
      "outputs": []
    },
    {
      "cell_type": "code",
      "source": [
        "def birthdayProb(numPeople, numSame, numTrials):\n",
        "  numHits = 0\n",
        "  for t in range(numTrials):\n",
        "    if sameDateNotEquallyLikely(numPeople, numSame):\n",
        "      numHits += 1\n",
        "  return numHits / numTrials"
      ],
      "metadata": {
        "id": "_1cO5WpTUFMd"
      },
      "execution_count": null,
      "outputs": []
    },
    {
      "cell_type": "code",
      "source": [
        "for numPeople in [10, 20, 40, 100]:\n",
        "  print('For', numPeople, 'estimated probability of a shared birthday is', birthdayProb(numPeople, 2, 10000))"
      ],
      "metadata": {
        "id": "TyavRE8ZT30F"
      },
      "execution_count": null,
      "outputs": []
    },
    {
      "cell_type": "code",
      "source": [],
      "metadata": {
        "id": "jgosUMLVT5uO"
      },
      "execution_count": null,
      "outputs": []
    }
  ]
}