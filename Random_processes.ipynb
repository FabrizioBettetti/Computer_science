{
  "nbformat": 4,
  "nbformat_minor": 0,
  "metadata": {
    "colab": {
      "provenance": [],
      "authorship_tag": "ABX9TyOWd3W80uxVHTIzaSKec3/5",
      "include_colab_link": true
    },
    "kernelspec": {
      "name": "python3",
      "display_name": "Python 3"
    },
    "language_info": {
      "name": "python"
    }
  },
  "cells": [
    {
      "cell_type": "markdown",
      "metadata": {
        "id": "view-in-github",
        "colab_type": "text"
      },
      "source": [
        "<a href=\"https://colab.research.google.com/github/FabrizioBettetti/Computer_science/blob/main/Random_processes.ipynb\" target=\"_parent\"><img src=\"https://colab.research.google.com/assets/colab-badge.svg\" alt=\"Open In Colab\"/></a>"
      ]
    },
    {
      "cell_type": "code",
      "execution_count": 1,
      "metadata": {
        "id": "l_MTbS041_uu"
      },
      "outputs": [],
      "source": [
        "import random"
      ]
    },
    {
      "cell_type": "markdown",
      "source": [
        "#Die rolling"
      ],
      "metadata": {
        "id": "D3rbx2M6HIub"
      }
    },
    {
      "cell_type": "code",
      "source": [
        "def rollDie():\n",
        "  \"\"\"\n",
        "  Returns a random int between 1 and 6\n",
        "  \"\"\"\n",
        "\n",
        "  return random.choice([1, 2, 3, 4, 5, 6])"
      ],
      "metadata": {
        "id": "eyZiqp7r2IIg"
      },
      "execution_count": 2,
      "outputs": []
    },
    {
      "cell_type": "code",
      "source": [
        "def testRoll(n=10):\n",
        "  result = ''\n",
        "  for i in range(n):\n",
        "    result = result + str(rollDie())\n",
        "  print(result)"
      ],
      "metadata": {
        "id": "W2P8ngIZ2RoI"
      },
      "execution_count": 3,
      "outputs": []
    },
    {
      "cell_type": "code",
      "source": [
        "testRoll(5)"
      ],
      "metadata": {
        "id": "_c0D9siO2gD4",
        "outputId": "ed1c258b-d6aa-4130-a4e8-8d86a394219a",
        "colab": {
          "base_uri": "https://localhost:8080/"
        }
      },
      "execution_count": 4,
      "outputs": [
        {
          "output_type": "stream",
          "name": "stdout",
          "text": [
            "52511\n"
          ]
        }
      ]
    },
    {
      "cell_type": "code",
      "source": [
        "random.seed(0)"
      ],
      "metadata": {
        "id": "szFELq-5C5qz"
      },
      "execution_count": 5,
      "outputs": []
    },
    {
      "cell_type": "code",
      "source": [
        "def runSim(goal, numTrials, txt):\n",
        "  total = 0\n",
        "  for i in range(numTrials):\n",
        "    result = ''\n",
        "    for j in range(len(goal)):\n",
        "      result += str(rollDie())\n",
        "    if result == goal:\n",
        "      total += 1\n",
        "  print('Actual probaility of', txt, '=', round(1 / (6 ** len(goal)), 8))\n",
        "  estProbability = round(total / numTrials, 8)\n",
        "  print('Estimated probaility of', txt, '=', round(estProbability, 8))"
      ],
      "metadata": {
        "id": "YoPib4Wp4Voy"
      },
      "execution_count": 6,
      "outputs": []
    },
    {
      "cell_type": "code",
      "source": [
        "runSim('11111', 1000, '11111')"
      ],
      "metadata": {
        "id": "JiR8zRqH9vB0",
        "outputId": "6f3f4e65-12a1-4341-cb40-9f619b0acd2e",
        "colab": {
          "base_uri": "https://localhost:8080/"
        }
      },
      "execution_count": 7,
      "outputs": [
        {
          "output_type": "stream",
          "name": "stdout",
          "text": [
            "Actual probaility of 11111 = 0.0001286\n",
            "Estimated probaility of 11111 = 0.0\n"
          ]
        }
      ]
    },
    {
      "cell_type": "code",
      "source": [
        "runSim('11111', 1000000, '11111')"
      ],
      "metadata": {
        "id": "NjJtSugo9ypL",
        "outputId": "2cb17ac9-58f8-4461-b247-f417497baa00",
        "colab": {
          "base_uri": "https://localhost:8080/"
        }
      },
      "execution_count": 8,
      "outputs": [
        {
          "output_type": "stream",
          "name": "stdout",
          "text": [
            "Actual probaility of 11111 = 0.0001286\n",
            "Estimated probaility of 11111 = 0.000128\n"
          ]
        }
      ]
    },
    {
      "cell_type": "markdown",
      "source": [
        "#The birthday problem"
      ],
      "metadata": {
        "id": "Ng-W5cigHEPM"
      }
    },
    {
      "cell_type": "code",
      "source": [
        "def sameDate(numPeople, numSame):\n",
        "  possibleDates = range(366)   #Account for 29th Febrauary\n",
        "  birthdays = [0] * 366\n",
        "  for p in range(numPeople):\n",
        "    birthDate = random.choice(possibleDates)\n",
        "    birthdays[birthDate] += 1\n",
        "  return max(birthdays) >= numSame"
      ],
      "metadata": {
        "id": "hVL5Z1tUHGiU"
      },
      "execution_count": 9,
      "outputs": []
    },
    {
      "cell_type": "code",
      "source": [
        "def birthdayProb(numPeople, numSame, numTrials):\n",
        "  numHits = 0\n",
        "  for t in range(numTrials):\n",
        "    if sameDate(numPeople, numSame):\n",
        "      numHits += 1\n",
        "  return numHits / numTrials"
      ],
      "metadata": {
        "id": "S__dL-AyHq7F"
      },
      "execution_count": 10,
      "outputs": []
    },
    {
      "cell_type": "markdown",
      "source": [
        "Probabilities for at least 2 people share the same birthdate:"
      ],
      "metadata": {
        "id": "JT_UPdCJSkP2"
      }
    },
    {
      "cell_type": "code",
      "source": [
        "import math"
      ],
      "metadata": {
        "id": "1Ncg2gCPWCyF"
      },
      "execution_count": 11,
      "outputs": []
    },
    {
      "cell_type": "code",
      "source": [
        "for numPeople in [10, 20, 40, 100]:\n",
        "  print('For', numPeople, 'estimated probability of a shared birthday is', birthdayProb(numPeople, 2, 10000))\n",
        "  numerator = math.factorial(366)\n",
        "  denom = (366 ** numPeople) * math.factorial(366 - numPeople)\n",
        "  print('Actual probability for N =', numPeople, '=', 1 - numerator / denom)"
      ],
      "metadata": {
        "id": "37_qL66EImOY",
        "outputId": "eaba0096-91b2-445b-f753-0717497675ac",
        "colab": {
          "base_uri": "https://localhost:8080/"
        }
      },
      "execution_count": 12,
      "outputs": [
        {
          "output_type": "stream",
          "name": "stdout",
          "text": [
            "For 10 estimated probability of a shared birthday is 0.1147\n",
            "Actual probability for N = 10 = 0.1166454118039999\n",
            "For 20 estimated probability of a shared birthday is 0.4065\n",
            "Actual probability for N = 20 = 0.4105696370550831\n",
            "For 40 estimated probability of a shared birthday is 0.8904\n",
            "Actual probability for N = 40 = 0.89054476188945\n",
            "For 100 estimated probability of a shared birthday is 1.0\n",
            "Actual probability for N = 100 = 0.9999996784357714\n"
          ]
        }
      ]
    },
    {
      "cell_type": "markdown",
      "source": [
        "Probability for at least 3 people share the same birthdate:"
      ],
      "metadata": {
        "id": "FL0FCUEhSp-N"
      }
    },
    {
      "cell_type": "code",
      "source": [
        "for numPeople in [10, 20, 40, 100]:\n",
        "  print('For', numPeople, 'estimated probability of a shared birthday is', birthdayProb(numPeople, 3, 10000))"
      ],
      "metadata": {
        "id": "wIl5P_16MduO",
        "outputId": "31ccdcf9-bf72-4288-aa0e-1f7cccc64854",
        "colab": {
          "base_uri": "https://localhost:8080/"
        }
      },
      "execution_count": 13,
      "outputs": [
        {
          "output_type": "stream",
          "name": "stdout",
          "text": [
            "For 10 estimated probability of a shared birthday is 0.0007\n",
            "For 20 estimated probability of a shared birthday is 0.0072\n",
            "For 40 estimated probability of a shared birthday is 0.0669\n",
            "For 100 estimated probability of a shared birthday is 0.6417\n"
          ]
        }
      ]
    },
    {
      "cell_type": "markdown",
      "source": [
        "Birthdates not equally likely:"
      ],
      "metadata": {
        "id": "7OP6XrzESs8m"
      }
    },
    {
      "cell_type": "code",
      "source": [
        "def sameDateNotEquallyLikely(numPeople, numSame):\n",
        "  possibleDates = 4 * list(range(0, 57)) + [58] + 4 * list(range(59, 366)) + 4 * list(range(180, 270))\n",
        "  birthdays = [0] * 366\n",
        "  for p in range(numPeople):\n",
        "    birthDate = random.choice(possibleDates)\n",
        "    birthdays[birthDate] += 1\n",
        "  return max(birthdays) >= numSame"
      ],
      "metadata": {
        "id": "JOlNDVlWSUxW"
      },
      "execution_count": 14,
      "outputs": []
    },
    {
      "cell_type": "code",
      "source": [
        "def birthdayProb(numPeople, numSame, numTrials):\n",
        "  numHits = 0\n",
        "  for t in range(numTrials):\n",
        "    if sameDateNotEquallyLikely(numPeople, numSame):\n",
        "      numHits += 1\n",
        "  return numHits / numTrials"
      ],
      "metadata": {
        "id": "_1cO5WpTUFMd"
      },
      "execution_count": 15,
      "outputs": []
    },
    {
      "cell_type": "code",
      "source": [
        "for numPeople in [10, 20, 40, 100]:\n",
        "  print('For', numPeople, 'estimated probability of a shared birthday is', birthdayProb(numPeople, 2, 10000))"
      ],
      "metadata": {
        "id": "TyavRE8ZT30F",
        "outputId": "13388e29-f86e-4d5a-e97c-b763de750d48",
        "colab": {
          "base_uri": "https://localhost:8080/"
        }
      },
      "execution_count": 16,
      "outputs": [
        {
          "output_type": "stream",
          "name": "stdout",
          "text": [
            "For 10 estimated probability of a shared birthday is 0.1291\n",
            "For 20 estimated probability of a shared birthday is 0.4464\n",
            "For 40 estimated probability of a shared birthday is 0.9127\n",
            "For 100 estimated probability of a shared birthday is 1.0\n"
          ]
        }
      ]
    },
    {
      "cell_type": "code",
      "source": [],
      "metadata": {
        "id": "jgosUMLVT5uO"
      },
      "execution_count": 16,
      "outputs": []
    }
  ]
}